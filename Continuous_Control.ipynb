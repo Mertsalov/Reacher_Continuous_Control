{
 "cells": [
  {
   "cell_type": "markdown",
   "metadata": {},
   "source": [
    "# Continuous Control\n",
    "\n",
    "---\n",
    "\n",
    "In this notebook, you will learn how to use the Unity ML-Agents environment for the second project of the [Deep Reinforcement Learning Nanodegree](https://www.udacity.com/course/deep-reinforcement-learning-nanodegree--nd893) program.\n",
    "\n",
    "## Start the Environment\n",
    "\n",
    "We begin by importing the necessary packages.  If the code cell below returns an error, please revisit the project instructions to double-check that you have installed [Unity ML-Agents](https://github.com/Unity-Technologies/ml-agents/blob/master/docs/Installation.md) and [NumPy](http://www.numpy.org/)."
   ]
  },
  {
   "cell_type": "code",
   "execution_count": 1,
   "metadata": {},
   "outputs": [
    {
     "name": "stdout",
     "output_type": "stream",
     "text": [
      "Python version: 3.6.3\n",
      "Torch  version: 1.8.1\n"
     ]
    }
   ],
   "source": [
    "from unityagents import UnityEnvironment\n",
    "import numpy as np\n",
    "import copy\n",
    "import random\n",
    "from collections import deque, namedtuple\n",
    "from tqdm import trange\n",
    "\n",
    "import torch\n",
    "import torch.nn as nn\n",
    "import torch.optim as optim\n",
    "import torch.nn.functional as F\n",
    "\n",
    "from platform import python_version\n",
    "print('Python version:', python_version())\n",
    "print('Torch  version:', torch.__version__)"
   ]
  },
  {
   "cell_type": "markdown",
   "metadata": {},
   "source": [
    "Next, we will start the environment!  **_Before running the code cell below_**, change the `file_name` parameter to match the location of the Unity environment that you downloaded.\n",
    "\n",
    "- **Mac**: `\"path/to/Reacher.app\"`\n",
    "- **Windows** (x86): `\"path/to/Reacher_Windows_x86/Reacher.exe\"`\n",
    "- **Windows** (x86_64): `\"path/to/Reacher_Windows_x86_64/Reacher.exe\"`\n",
    "- **Linux** (x86): `\"path/to/Reacher_Linux/Reacher.x86\"`\n",
    "- **Linux** (x86_64): `\"path/to/Reacher_Linux/Reacher.x86_64\"`\n",
    "- **Linux** (x86, headless): `\"path/to/Reacher_Linux_NoVis/Reacher.x86\"`\n",
    "- **Linux** (x86_64, headless): `\"path/to/Reacher_Linux_NoVis/Reacher.x86_64\"`\n",
    "\n",
    "For instance, if you are using a Mac, then you downloaded `Reacher.app`.  If this file is in the same folder as the notebook, then the line below should appear as follows:\n",
    "```\n",
    "env = UnityEnvironment(file_name=\"Reacher.app\")\n",
    "```"
   ]
  },
  {
   "cell_type": "code",
   "execution_count": 2,
   "metadata": {},
   "outputs": [
    {
     "name": "stderr",
     "output_type": "stream",
     "text": [
      "INFO:unityagents:\n",
      "'Academy' started successfully!\n",
      "Unity Academy name: Academy\n",
      "        Number of Brains: 1\n",
      "        Number of External Brains : 1\n",
      "        Lesson number : 0\n",
      "        Reset Parameters :\n",
      "\t\tgoal_speed -> 1.0\n",
      "\t\tgoal_size -> 5.0\n",
      "Unity brain name: ReacherBrain\n",
      "        Number of Visual Observations (per agent): 0\n",
      "        Vector Observation space type: continuous\n",
      "        Vector Observation space size (per agent): 33\n",
      "        Number of stacked Vector Observation: 1\n",
      "        Vector Action space type: continuous\n",
      "        Vector Action space size (per agent): 4\n",
      "        Vector Action descriptions: , , , \n"
     ]
    }
   ],
   "source": [
    "env = UnityEnvironment(file_name='Reacher.app')"
   ]
  },
  {
   "cell_type": "markdown",
   "metadata": {},
   "source": [
    "Environments contain **_brains_** which are responsible for deciding the actions of their associated agents. Here we check for the first brain available, and set it as the default brain we will be controlling from Python."
   ]
  },
  {
   "cell_type": "code",
   "execution_count": 3,
   "metadata": {},
   "outputs": [],
   "source": [
    "# get the default brain\n",
    "brain_name = env.brain_names[0]\n",
    "brain = env.brains[brain_name]"
   ]
  },
  {
   "cell_type": "markdown",
   "metadata": {},
   "source": [
    "## Examine the State and Action Spaces\n",
    "\n",
    "In this environment, a double-jointed arm can move to target locations. A reward of `+0.1` is provided for each step that the agent's hand is in the goal location. Thus, the goal of your agent is to maintain its position at the target location for as many time steps as possible.\n",
    "\n",
    "The observation space consists of `33` variables corresponding to position, rotation, velocity, and angular velocities of the arm.  Each action is a vector with four numbers, corresponding to torque applicable to two joints.  Every entry in the action vector must be a number between `-1` and `1`.\n",
    "\n",
    "Run the code cell below to print some information about the environment."
   ]
  },
  {
   "cell_type": "code",
   "execution_count": 4,
   "metadata": {},
   "outputs": [
    {
     "name": "stdout",
     "output_type": "stream",
     "text": [
      "Number of agents: 1\n",
      "Size of each action: 4\n",
      "There are 1 agents. Each observes a state with length: 33\n",
      "The state for the first agent looks like: [ 0.00000000e+00 -4.00000000e+00  0.00000000e+00  1.00000000e+00\n",
      " -0.00000000e+00 -0.00000000e+00 -4.37113883e-08  0.00000000e+00\n",
      "  0.00000000e+00  0.00000000e+00  0.00000000e+00  0.00000000e+00\n",
      "  0.00000000e+00  0.00000000e+00 -1.00000000e+01  0.00000000e+00\n",
      "  1.00000000e+00 -0.00000000e+00 -0.00000000e+00 -4.37113883e-08\n",
      "  0.00000000e+00  0.00000000e+00  0.00000000e+00  0.00000000e+00\n",
      "  0.00000000e+00  0.00000000e+00  5.75471878e+00 -1.00000000e+00\n",
      "  5.55726671e+00  0.00000000e+00  1.00000000e+00  0.00000000e+00\n",
      " -1.68164849e-01]\n"
     ]
    }
   ],
   "source": [
    "# reset the environment\n",
    "env_info = env.reset(train_mode=True)[brain_name]\n",
    "\n",
    "# number of agents\n",
    "num_agents = len(env_info.agents)\n",
    "print('Number of agents:', num_agents)\n",
    "\n",
    "# size of each action\n",
    "action_size = brain.vector_action_space_size\n",
    "print('Size of each action:', action_size)\n",
    "\n",
    "# examine the state space \n",
    "states = env_info.vector_observations\n",
    "state_size = states.shape[1]\n",
    "print('There are {} agents. Each observes a state with length: {}'\\\n",
    "      .format(states.shape[0], state_size))\n",
    "print('The state for the first agent looks like:', states[0])"
   ]
  },
  {
   "cell_type": "markdown",
   "metadata": {},
   "source": [
    "## Take Random Actions in the Environment\n",
    "\n",
    "In the next code cell, you will learn how to use the Python API to control the agent and receive feedback from the environment.\n",
    "\n",
    "Once this cell is executed, you will watch the agent's performance, if it selects an action at random with each time step.  A window should pop up that allows you to observe the agent, as it moves through the environment.  \n",
    "\n",
    "Of course, as part of the project, you'll have to change the code so that the agent is able to use its experience to gradually choose better actions when interacting with the environment!"
   ]
  },
  {
   "cell_type": "code",
   "execution_count": 5,
   "metadata": {},
   "outputs": [
    {
     "name": "stdout",
     "output_type": "stream",
     "text": [
      "Total score (averaged over agents) this episode: 0.19999999552965164\n"
     ]
    }
   ],
   "source": [
    "env_info = env.reset(train_mode=False)[brain_name] # reset the environment    \n",
    "states = env_info.vector_observations              # get the current state\n",
    "                                                   #(for each agent)\n",
    "scores = np.zeros(num_agents)                      # initialize the score\n",
    "                                                   # (for each agent)\n",
    "while True:\n",
    "    actions = np.random.randn(num_agents, \n",
    "                              action_size)         # select an action\n",
    "                                                   # (for each agent)\n",
    "    actions = np.clip(actions, -1, 1)              # all actions btw (-1,1)\n",
    "    env_info = env.step(actions)[brain_name]       # send all actions\n",
    "                                                   # to tne environment\n",
    "    next_states = env_info.vector_observations     # get next state\n",
    "                                                   # (for each agent)\n",
    "    rewards = env_info.rewards                     # get reward\n",
    "                                                   # (for each agent)\n",
    "    dones = env_info.local_done                    # see if episode finished\n",
    "    scores += env_info.rewards                     # update the score\n",
    "                                                   # (for each agent)\n",
    "    states = next_states                           # roll over states\n",
    "                                                   # to next time step\n",
    "    if np.any(dones):                              # exit loop\n",
    "        break                                      # if episode finished\n",
    "print('Total score (averaged over agents) this episode: {}'\\\n",
    "      .format(np.mean(scores)))"
   ]
  },
  {
   "cell_type": "markdown",
   "metadata": {},
   "source": [
    "## Define a neural network architecture\n",
    "\n",
    "Now it's your turn to train your own agent to solve the environment!  When training the environment, set `train_mode=True`, so that the line for resetting the environment looks like the following:\n",
    "```python\n",
    "env_info = env.reset(train_mode=True)[brain_name]\n",
    "```\n",
    "\n",
    "### Actor (Policy) Model\n",
    "Maps states to action values. The actor network has the following structure:\n",
    "\n",
    "* fully connected layer (state size x 128)\n",
    "* SELU-activation\n",
    "* fully connected layer (128 x 64)\n",
    "* SELU-activation\n",
    "* fully connected layer (64 x 32)\n",
    "* SELU-activation\n",
    "* fully connected layer (32 x action size)"
   ]
  },
  {
   "cell_type": "code",
   "execution_count": 6,
   "metadata": {},
   "outputs": [],
   "source": [
    "def hidden_init(layer):\n",
    "    '''Hidden layers initialization'''\n",
    "    fan_in = layer.weight.data.size()[0]\n",
    "    lim = 1. / np.sqrt(fan_in)\n",
    "    return (-lim, lim)"
   ]
  },
  {
   "cell_type": "code",
   "execution_count": 7,
   "metadata": {},
   "outputs": [],
   "source": [
    "class Actor(nn.Module):\n",
    "    \n",
    "    def __init__(self, state_size, action_size, seed,\n",
    "                 fc1_units = 128, fc2_units = 64, fc3_units = 32):\n",
    "        '''\n",
    "        Neural network parameters:\n",
    "            state_size (int) : # parameters characterizing the environment state\n",
    "            action_size (int): # possible actions\n",
    "            seed (int)       : random seed\n",
    "            fc1_units (int)  : # nodes in the first hidden layer\n",
    "            fc2_units (int)  : # nodes in the second hidden layer\n",
    "            fc3_units (int)  : # nodes in the third hidden layer\n",
    "        '''\n",
    "        super(Actor, self).__init__()\n",
    "        self.seed = torch.manual_seed(seed)\n",
    "        self.fc1  = nn.Linear(state_size, fc1_units)\n",
    "        self.fc2  = nn.Linear(fc1_units,  fc2_units)\n",
    "        self.fc3  = nn.Linear(fc2_units,  fc3_units)\n",
    "        self.fc4  = nn.Linear(fc3_units,  action_size)\n",
    "\n",
    "        self.selu1 = nn.SELU(fc1_units)\n",
    "        self.selu2 = nn.SELU(fc2_units)\n",
    "        self.selu3 = nn.SELU(fc3_units)\n",
    "        \n",
    "        self.reset_parameters()\n",
    "    \n",
    "    def reset_parameters(self):\n",
    "        self.fc1.weight.data.uniform_(*hidden_init(self.fc1))\n",
    "        self.fc2.weight.data.uniform_(*hidden_init(self.fc2))\n",
    "        self.fc3.weight.data.uniform_(*hidden_init(self.fc3))\n",
    "        self.fc4.weight.data.uniform_(-3e-3, 3e-3)\n",
    "\n",
    "    def forward(self, state):\n",
    "        x = self.selu1(self.fc1(state))\n",
    "        x = self.selu2(self.fc2(x))\n",
    "        x = self.selu3(self.fc3(x))\n",
    "        return torch.tanh(self.fc4(x))"
   ]
  },
  {
   "cell_type": "markdown",
   "metadata": {},
   "source": [
    "### Critic (Value) Model\n",
    "Maps (state, action) pairs to Q-values. The critic network has the following structure:\n",
    "* fully connected layer (state size x 128)\n",
    "* SELU-activation\n",
    "* concatenate the action\n",
    "* fully connected layer (128 + action size x 64)\n",
    "* SELU-activation\n",
    "* fully connected layer (64 x 32)\n",
    "* SELU-activation\n",
    "* fully connected layer (32 x 1)"
   ]
  },
  {
   "cell_type": "code",
   "execution_count": 8,
   "metadata": {},
   "outputs": [],
   "source": [
    "class Critic(nn.Module):\n",
    "    def __init__(self, state_size, action_size, seed, \n",
    "                 fcs1_units = 128, fc2_units = 64, fc3_units = 32):\n",
    "        '''\n",
    "        Neural network parameters:\n",
    "            state_size (int) : # parameters characterizing the environment state\n",
    "            action_size (int): # possible actions\n",
    "            seed (int)       : random seed\n",
    "            fc1_units (int)  : # nodes in the first hidden layer\n",
    "            fc2_units (int)  : # nodes in the second hidden layer\n",
    "            fc3_units (int)  : # nodes in the third hidden layer\n",
    "        '''\n",
    "        super(Critic, self).__init__()\n",
    "        self.seed = torch.manual_seed(seed)\n",
    "        self.fcs1 = nn.Linear(state_size, fcs1_units)\n",
    "        self.fc2  = nn.Linear(fcs1_units+action_size, fc2_units)\n",
    "        self.fc3  = nn.Linear(fc2_units, fc3_units)\n",
    "        self.fc4  = nn.Linear(fc3_units, 1)\n",
    "        self.selu1 = nn.SELU(fcs1_units)\n",
    "        self.selu2 = nn.SELU(fc2_units)\n",
    "        self.selu3 = nn.SELU(fc3_units)\n",
    "        self.reset_parameters()\n",
    "\n",
    "    def reset_parameters(self):\n",
    "        self.fcs1.weight.data.uniform_(*hidden_init(self.fcs1))\n",
    "        self.fc2.weight.data.uniform_(*hidden_init(self.fc2))\n",
    "        self.fc3.weight.data.uniform_(*hidden_init(self.fc3))\n",
    "        self.fc4.weight.data.uniform_(-3e-3, 3e-3)\n",
    "\n",
    "    def forward(self, state, action):\n",
    "        xs = self.selu1(self.fcs1(state))\n",
    "        x = torch.cat((xs, action), dim=1)\n",
    "        x = self.selu2(self.fc2(x))\n",
    "        x = self.selu3(self.fc3(x))\n",
    "        return self.fc4(x)"
   ]
  },
  {
   "cell_type": "markdown",
   "metadata": {},
   "source": [
    "## Define the Agent\n",
    "### Fixed-size buffer to store experience tuples"
   ]
  },
  {
   "cell_type": "code",
   "execution_count": 9,
   "metadata": {},
   "outputs": [
    {
     "data": {
      "text/plain": [
       "device(type='cpu')"
      ]
     },
     "metadata": {},
     "output_type": "display_data"
    }
   ],
   "source": [
    "device = torch.device(\"cuda:0\" if torch.cuda.is_available() else \"cpu\")\n",
    "display(device)"
   ]
  },
  {
   "cell_type": "code",
   "execution_count": 10,
   "metadata": {},
   "outputs": [],
   "source": [
    "class ReplayBuffer:\n",
    "    '''Fixed-size buffer to store experience tuples'''\n",
    "\n",
    "    def __init__(self, action_size, buffer_size, batch_size, seed):\n",
    "        '''Initialize a ReplayBuffer object\n",
    "        Params\n",
    "        ======\n",
    "            buffer_size (int): maximum size of buffer\n",
    "            batch_size (int) : size of each training batch\n",
    "        '''\n",
    "        self.action_size = action_size\n",
    "        self.memory = deque(maxlen=buffer_size)  # internal memory (deque)\n",
    "        self.batch_size = batch_size\n",
    "        self.experience = namedtuple(\"Experience\",\n",
    "                                     field_names=[\"state\", \"action\", \"reward\",\n",
    "                                                  \"next_state\", \"done\"])\n",
    "        self.seed = random.seed(seed)\n",
    "    \n",
    "    def add(self, state, action, reward, next_state, done):\n",
    "        '''Add a new experience to memory'''\n",
    "        e = self.experience(state, action, reward, next_state, done)\n",
    "        self.memory.append(e)\n",
    "    \n",
    "    def sample(self):\n",
    "        '''Randomly sample a batch of experiences from memory'''\n",
    "        experiences = random.sample(self.memory, k=self.batch_size)\n",
    "\n",
    "        states = torch.from_numpy(\n",
    "            np.vstack([e.state for e in experiences if e is not None]))\\\n",
    "            .float().to(device)\n",
    "        actions = torch.from_numpy(\n",
    "            np.vstack([e.action for e in experiences if e is not None]))\\\n",
    "            .float().to(device)\n",
    "        rewards = torch.from_numpy(\n",
    "            np.vstack([e.reward for e in experiences if e is not None]))\\\n",
    "            .float().to(device)\n",
    "        next_states = torch.from_numpy(\n",
    "            np.vstack([e.next_state for e in experiences if e is not None]))\\\n",
    "            .float().to(device)\n",
    "        dones = torch.from_numpy(\n",
    "            np.vstack([e.done for e in experiences if e is not None])\\\n",
    "            .astype(np.uint8)).float().to(device)\n",
    "\n",
    "        return (states, actions, rewards, next_states, dones)\n",
    "\n",
    "    def __len__(self):\n",
    "        '''Return the current size of internal memory'''\n",
    "        return len(self.memory)\n",
    "    "
   ]
  },
  {
   "cell_type": "markdown",
   "metadata": {},
   "source": [
    "### Algorithm\n",
    "\n",
    "The algorithm implementation was adapted from the course repository:\n",
    "\n",
    "https://github.com/udacity/deep-reinforcement-learning/tree/master/ddpg-pendulum\n",
    "\n",
    "Agent parameters:\n",
    "```\n",
    "state_size  : environmen state size\n",
    "action_size : action size\n",
    "num_agents  : # learning agents\n",
    "andom_seed  : random seed number (optional)\n",
    "batch_size  : minibatch size for neural network training\n",
    "lr_actor    : actor neural network learning rate\n",
    "lr_critic   : critic neural network learning rate\n",
    "noise_theta : parameter theta for Ornstein-Uhlenbeck noise process\n",
    "noise_sigma : parameter sigma for Ornstein-Uhlenbeck noise process\n",
    "actor_fc1   : # nodes in first hidden layer for actor\n",
    "actor_fc2   : # nodes in second hidden layer for actor\n",
    "actor_fc3   : # nodes in the third hidden layer for actor\n",
    "critic_fc1  : # nodes in first hidden ayer for critic\n",
    "critic_fc2  : # nodes in second hidden layer for critic\n",
    "critic_fc3  : # nodes in the third hidden layer for critic\n",
    "update_every: # time steps between each updating neural networks \n",
    "num_updates : # times to update the networks at every update_every interval\n",
    "buffer_size : buffer size for experience replay\n",
    "```"
   ]
  },
  {
   "cell_type": "code",
   "execution_count": 11,
   "metadata": {},
   "outputs": [],
   "source": [
    "WEIGHT_DECAY = 0 # L2 weight decay\n",
    "class Agent():\n",
    "    '''Interacts with and learns from the environment'''\n",
    "    \n",
    "    def __init__(self, state_size, action_size, num_agents, random_seed = 0,\n",
    "                 batch_size = 128, lr_actor = 1e-4, lr_critic = 1e-3,\n",
    "                 noise_theta = 0.15, noise_sigma = 0.2,\n",
    "                 actor_fc1 = 128, actor_fc2 = 64, actor_fc3 = 32,\n",
    "                 critic_fc1 = 128, critic_fc2 = 64, critic_fc3 = 32,\n",
    "                 update_every = 1, num_updates = 1, buffer_size = int(2e6)):\n",
    "        \n",
    "        '''\n",
    "            state_size (int) : state size\n",
    "            action_size (int): action size\n",
    "            num_agents (int) : number of agents\n",
    "            random_seed (int): random seed\n",
    "            batch_size (int) : minibatch size\n",
    "            lr_actor (float) : the actor network learning rate\n",
    "            lr_critic (float): the critic network learning rate\n",
    "            noise_theta (float): theta for Ornstein-Uhlenbeck noise process\n",
    "            noise_sigma (float): simga for Ornstein-Uhlenbeck noise process\n",
    "            actor_fc1 (int)    : # nodes in first hidden layer for actor\n",
    "            actor_fc2 = 64     : # nodes in second hidden layer for actor\n",
    "            actor_fc3 = 32     : # nodes in the third hidden layer for actor\n",
    "            critic_fc1 = 128   : # nodes in first hidden ayer for critic\n",
    "            critic_fc2 = 64    : # nodes in second hidden layer for critic\n",
    "            critic_fc3 = 32    : # nodes in the third hidden layer for critic\n",
    "            update_every = 1   : # time steps between each\n",
    "                                 updating neural networks \n",
    "            num_updates = 1\n",
    "            buffer_size = int(2e6): buffer size for experience replay\n",
    "        '''\n",
    "        self.state_size = state_size\n",
    "        self.action_size = action_size\n",
    "        self.num_agents = num_agents\n",
    "        self.seed = random.seed(random_seed)\n",
    "        self.batch_size = batch_size\n",
    "        self.update_every = update_every\n",
    "        self.num_updates = num_updates\n",
    "        self.buffer_learn_size = min(batch_size * 10, buffer_size)\n",
    "\n",
    "        # actor Network (Target Network)\n",
    "        self.actor_local  = Actor(state_size, action_size, random_seed,\n",
    "                                  actor_fc1, actor_fc2, actor_fc3).to(device)\n",
    "        self.actor_target = Actor(state_size, action_size, random_seed,\n",
    "                                  actor_fc1, actor_fc2, actor_fc3).to(device)\n",
    "        self.actor_optimizer = optim.Adam(self.actor_local.parameters(),\n",
    "                                          lr=lr_actor)\n",
    "\n",
    "        # critic Network (Target Network)\n",
    "        self.critic_local  = Critic(state_size, action_size,\n",
    "                                    random_seed, critic_fc1, critic_fc2,\n",
    "                                    critic_fc3).to(device)\n",
    "        self.critic_target = Critic(state_size, action_size,\n",
    "                                    random_seed, critic_fc1, critic_fc2,\n",
    "                                    critic_fc3).to(device)\n",
    "        self.critic_optimizer = optim.Adam(self.critic_local.parameters(),\n",
    "                                           lr=lr_critic, \n",
    "                                           weight_decay=WEIGHT_DECAY)\n",
    "            \n",
    "        # noise process\n",
    "        self.noise = OUNoise((num_agents, action_size), random_seed, \n",
    "                             theta=noise_theta, sigma=noise_sigma)\n",
    "\n",
    "        # replay memory\n",
    "        self.memory = ReplayBuffer(action_size, buffer_size, \n",
    "                                   self.batch_size, random_seed)\n",
    "\n",
    "        # initialize the time step counter\n",
    "        # for updating each UPDATE_EVERY number of steps\n",
    "        self.t_step = 0\n",
    "    \n",
    "    def step(self, states, actions, rewards, next_states, \n",
    "             dones, gamma = 0.96, tau = 0.001):\n",
    "        '''Save experience in replay memory, \n",
    "        and use random sample from buffer to learn'''\n",
    "        \n",
    "        # Save experience / reward\n",
    "        for state, action, reward, next_state, done in zip(states, actions, \n",
    "                                                           rewards, next_states, \n",
    "                                                           dones):\n",
    "            self.memory.add(state, action, reward, next_state, done)\n",
    "\n",
    "        # Learn every update_every time steps.\n",
    "        self.t_step = (self.t_step + 1) % self.update_every\n",
    "        if self.t_step == 0:\n",
    "            # If enough samples are available in memory,\n",
    "            # get a random subset from the\n",
    "            # saved experiences (weighted if prior_replay = True) and learn\n",
    "            if len(self.memory) > self.buffer_learn_size:\n",
    "                for _ in range(self.num_updates):\n",
    "                    experiences = self.memory.sample()      \n",
    "                    self.learn(experiences, gamma, tau)\n",
    "\n",
    "    def act(self, state, add_noise=True, noise_scale=1.0):\n",
    "        '''Returns actions for given state as per current policy'''\n",
    "        state = torch.from_numpy(state).float().to(device)\n",
    "        self.actor_local.eval()\n",
    "        with torch.no_grad():\n",
    "            action = self.actor_local(state).cpu().data.numpy()\n",
    "        self.actor_local.train()\n",
    "        if add_noise:\n",
    "            action += (noise_scale * self.noise.sample())\n",
    "        return np.clip(action, -1, 1)\n",
    "\n",
    "    def reset(self):\n",
    "        self.noise.reset()\n",
    "\n",
    "    def learn(self, experiences, gamma, tau):\n",
    "        '''\n",
    "        Update policy and value parameters using \n",
    "        given batch of experience tuples.\n",
    "        Q_targets = r + gamma * critic_target(next_state, \n",
    "                                              actor_target(next_state))\n",
    "        where:\n",
    "            actor_target(state) -> action\n",
    "            critic_target(state, action) -> Q-value\n",
    "        Params\n",
    "        ======\n",
    "            experiences (Tuple[torch.Tensor]): tuple of (s, a, r, s', done) tuples \n",
    "            gamma (float): discount factor\n",
    "        '''\n",
    "        states, actions, rewards, next_states, dones = experiences\n",
    "\n",
    "        # ************************* CRITIC UPDATE ************************\n",
    "        # Get predicted next-state actions and Q values from target models\n",
    "        actions_next = self.actor_target(next_states)\n",
    "        Q_targets_next = self.critic_target(next_states, actions_next)\n",
    "        # Compute Q targets for current states (y_i)\n",
    "        Q_targets = rewards + (gamma * Q_targets_next * (1 - dones))\n",
    "        # Compute critic loss\n",
    "        Q_expected = self.critic_local(states, actions)\n",
    "        critic_loss = F.mse_loss(Q_expected, Q_targets)\n",
    "        \n",
    "        # Minimize the loss\n",
    "        self.critic_optimizer.zero_grad()\n",
    "        critic_loss.backward()\n",
    "        \n",
    "        # Gradient clipping\n",
    "        torch.nn.utils.clip_grad_norm_(self.critic_local.parameters(), 1)\n",
    "        \n",
    "        self.critic_optimizer.step()\n",
    "\n",
    "        # ************************* ACTOR UPDATE *************************\n",
    "        # Compute actor loss\n",
    "        actions_pred = self.actor_local(states)\n",
    "        actor_loss = -self.critic_local(states, actions_pred).mean()\n",
    "        # Minimize the loss\n",
    "        self.actor_optimizer.zero_grad()\n",
    "        actor_loss.backward()\n",
    "        self.actor_optimizer.step()\n",
    "\n",
    "        # ********************* TARGET NETWORKS UPDATE *******************\n",
    "        self.soft_update(self.critic_local, self.critic_target, tau)\n",
    "        self.soft_update(self.actor_local, self.actor_target, tau)                     \n",
    "\n",
    "    def soft_update(self, local_model, target_model, tau):\n",
    "        '''\n",
    "        Soft update model parameters.\n",
    "        theta_target = tau*theta_local + (1 - tau)*theta_target\n",
    "        Weighted average. Smaller tau means more of the updated target model is\n",
    "            weighted towards the current target model.\n",
    "            \n",
    "        local_model : PyTorch model (weights will be copied from)\n",
    "        target_model: PyTorch model (weights will be copied to)\n",
    "        tau (float) : interpolation parameter \n",
    "        '''\n",
    "        for target_param, local_param in zip(target_model.parameters(),\n",
    "                                             local_model.parameters()):\n",
    "            target_param.data.copy_(tau*local_param.data + \n",
    "                                    (1.0-tau)*target_param.data)"
   ]
  },
  {
   "cell_type": "markdown",
   "metadata": {},
   "source": [
    "### Ornstein-Uhlenbeck process"
   ]
  },
  {
   "cell_type": "code",
   "execution_count": 12,
   "metadata": {},
   "outputs": [],
   "source": [
    "class OUNoise:\n",
    "\n",
    "    def __init__(self, size, seed, mu=0., theta=0.15, sigma=0.2):\n",
    "        '''Initialize parameters and noise process'''\n",
    "        self.mu = mu * np.ones(size)\n",
    "        self.theta = theta\n",
    "        self.sigma = sigma\n",
    "        self.size = size\n",
    "        self.seed = random.seed(seed)\n",
    "        self.reset()\n",
    "\n",
    "    def reset(self):\n",
    "        '''Reset the internal state (= noise) to mean (mu)'''\n",
    "        self.state = copy.copy(self.mu)\n",
    "\n",
    "    def sample(self):\n",
    "        '''Update internal state and return it as a noise sample'''\n",
    "        x = self.state\n",
    "        dx = (self.theta * (self.mu - x) + \n",
    "              self.sigma * np.random.standard_normal(self.size))\n",
    "\n",
    "        self.state = x + dx\n",
    "        return self.state"
   ]
  },
  {
   "cell_type": "markdown",
   "metadata": {},
   "source": [
    "## DDPG (Deep Deterministic Policy Gradients)\n",
    "\n",
    "Loop through each episode:\n",
    "```\n",
    "- get an action\n",
    "- send the action to the environment\n",
    "- get the next state\n",
    "- get the reward\n",
    "- add the state, action, reward, and next state to the experience replay buffer\n",
    "- every # time steps in the environment,\n",
    "  randomly sample the experience replay buffer and perform # learning steps\n",
    "- updating the critic network for each learning step\n",
    "- updating the actor network for each learning step\n",
    "- add the reward to the score\n",
    "- update the state to the next state and loop back to step 1\n",
    "```"
   ]
  },
  {
   "cell_type": "code",
   "execution_count": 13,
   "metadata": {},
   "outputs": [],
   "source": [
    "def ddpg(agent, prefix, n_episodes=2000, max_t=1500,\n",
    "         gamma_initial = 0.9, gamma_final = 0.99, gamma_rate = 0.002,\n",
    "         tau_initial = 0.01, tau_final = 0.001, tau_rate = 0.001,\n",
    "         noise_factor = 1.0):\n",
    "    '''\n",
    "    Deep Deterministic Policy Gradients\n",
    "    \n",
    "    PARAMETERS:\n",
    "    agent (object)       : the learning agent\n",
    "    prefix (string)      : a prefix string for naming all of the checkpoints\n",
    "                           of the actor and critic neural networks that are saved\n",
    "    n_episodes (int)     : maximum number of training episodes\n",
    "    max_t (int)          : maximum number of timesteps per episode\n",
    "    gamma_initial (float): initial gamma discount factor (0 to 1);\n",
    "                              higher values favor long term over current rewards\n",
    "    gamma_final (float)  : final gamma discount factor (0 to 1)\n",
    "    gammma_rate (float)  : a rate (0 to 1) for increasing gamma\n",
    "    tau_initial (float)  : initial value for tau, the weighting factor\n",
    "                              for soft updating the neural networks\n",
    "    tau_final (float)    : final value of tau\n",
    "    tau_rate (float)     : rate (0 to 1) for increasing tau each episode\n",
    "    noise_factor         : the value for scaling the noise\n",
    "                           every episode to gradually decrease it\n",
    "    '''\n",
    "    \n",
    "    gamma = gamma_initial\n",
    "    gamma_scale = 1.0 - gamma_rate\n",
    "    \n",
    "    tau = tau_initial\n",
    "    tau_scale = 1.0 - tau_rate\n",
    "    \n",
    "    noise_scale = 1.0\n",
    "    scores_deque = deque(maxlen=100)\n",
    "    scores = []\n",
    "    for i_episode in trange(1, n_episodes+1):\n",
    "        \n",
    "        # Reset environment\n",
    "        env_info = env.reset(train_mode=True)[brain_name]\n",
    "        \n",
    "        # Get next state\n",
    "        state = env_info.vector_observations\n",
    "        \n",
    "        # state = env.reset()\n",
    "        agent.reset()\n",
    "\n",
    "        score = np.zeros(agent.num_agents)\n",
    "        \n",
    "        for t in range(max_t):\n",
    "            \n",
    "            # get action\n",
    "            action = agent.act(state, noise_scale)\n",
    "            # send action to environment\n",
    "            env_info = env.step(action)[brain_name]\n",
    "            # get next state\n",
    "            next_state = env_info.vector_observations\n",
    "            # get reward\n",
    "            reward = env_info.rewards\n",
    "            \n",
    "            # check if episode is finished\n",
    "            done = env_info.local_done\n",
    "            \n",
    "            agent.step(state, action, reward, next_state, done, gamma, tau)\n",
    "            score += np.array(env_info.rewards) # update the score\n",
    "            state = next_state\n",
    "            \n",
    "            if np.any(done):\n",
    "                break # exit if episode is finished\n",
    "                \n",
    "        agent_avg = np.mean(score)\n",
    "        scores_deque.append(agent_avg)\n",
    "        scores.append(agent_avg)\n",
    "                \n",
    "        # Increase gamma discount factor. Limit to gamma_final.\n",
    "        gamma = gamma_final - gamma_scale * (gamma_final - gamma)\n",
    "        \n",
    "        tau = tau_final - tau_scale * (tau_final - tau)\n",
    "        \n",
    "        noise_scale *= noise_factor\n",
    "        \n",
    "        if i_episode % 50 == 0:\n",
    "            print('\\rEpisode {}\\tAverage Score: {:.2f}'.\\\n",
    "                format(i_episode, np.mean(scores_deque)))\n",
    "\n",
    "    # saved Model Weights\n",
    "    torch.save(agent.actor_local.state_dict() , prefix + '_actor.pth')\n",
    "    torch.save(agent.critic_local.state_dict(), prefix + '_critic.pth')\n",
    "    return scores"
   ]
  },
  {
   "cell_type": "markdown",
   "metadata": {},
   "source": [
    "## Train the Agent"
   ]
  },
  {
   "cell_type": "code",
   "execution_count": 14,
   "metadata": {},
   "outputs": [],
   "source": [
    "agent = Agent(state_size = state_size, action_size = action_size,\n",
    "              num_agents = num_agents, random_seed = 0, batch_size = 1024, \n",
    "              lr_actor = 0.0001, lr_critic = 0.001,\n",
    "              noise_theta = 0.4, noise_sigma = 0.6,\n",
    "              actor_fc1 = 128, actor_fc2 = 64, actor_fc3 = 32,\n",
    "              critic_fc1 = 128, critic_fc2 = 64, critic_fc3 = 32,\n",
    "              update_every = 20, num_updates = 5, buffer_size = int(2e6))"
   ]
  },
  {
   "cell_type": "markdown",
   "metadata": {},
   "source": [
    "### Learning parameters:\n",
    "```\n",
    "agent        : the agent\n",
    "prefix       : a prefix string for naming all of the checkpoints\n",
    "n_episodes   : maximum number of training episodes\n",
    "max_t        : maximum number of timesteps per episode\n",
    "gamma_initial: initial gamma discount factor (0 to 1)\n",
    "gamma_final  : final gamma discount factor (0 to 1)\n",
    "gammma_rate  : a rate (0 to 1) for increasing gamma\n",
    "tau_initial  : initial value for tau, the weighting factor\n",
    "               for soft updating the neural networks\n",
    "tau_final    : final value of tau\n",
    "tau_rate     : rate (0 to 1) for increasing tau each episode\n",
    "noise_factor : the value for scaling the noise (<=1)\n",
    "```"
   ]
  },
  {
   "cell_type": "code",
   "execution_count": 15,
   "metadata": {},
   "outputs": [
    {
     "name": "stderr",
     "output_type": "stream",
     "text": [
      " 12%|█▎        | 50/400 [05:47<48:04,  8.24s/it]"
     ]
    },
    {
     "name": "stdout",
     "output_type": "stream",
     "text": [
      "\r",
      "Episode 50\tAverage Score: 0.99\n"
     ]
    },
    {
     "name": "stderr",
     "output_type": "stream",
     "text": [
      " 25%|██▌       | 100/400 [12:38<39:49,  7.97s/it]"
     ]
    },
    {
     "name": "stdout",
     "output_type": "stream",
     "text": [
      "\r",
      "Episode 100\tAverage Score: 3.70\n"
     ]
    },
    {
     "name": "stderr",
     "output_type": "stream",
     "text": [
      " 38%|███▊      | 150/400 [19:43<37:19,  8.96s/it]"
     ]
    },
    {
     "name": "stdout",
     "output_type": "stream",
     "text": [
      "\r",
      "Episode 150\tAverage Score: 13.99\n"
     ]
    },
    {
     "name": "stderr",
     "output_type": "stream",
     "text": [
      " 50%|█████     | 200/400 [27:40<35:13, 10.57s/it]"
     ]
    },
    {
     "name": "stdout",
     "output_type": "stream",
     "text": [
      "\r",
      "Episode 200\tAverage Score: 26.04\n"
     ]
    },
    {
     "name": "stderr",
     "output_type": "stream",
     "text": [
      " 62%|██████▎   | 250/400 [37:03<29:06, 11.64s/it]"
     ]
    },
    {
     "name": "stdout",
     "output_type": "stream",
     "text": [
      "\r",
      "Episode 250\tAverage Score: 30.97\n"
     ]
    },
    {
     "name": "stderr",
     "output_type": "stream",
     "text": [
      " 75%|███████▌  | 300/400 [47:18<21:33, 12.94s/it]"
     ]
    },
    {
     "name": "stdout",
     "output_type": "stream",
     "text": [
      "\r",
      "Episode 300\tAverage Score: 31.47\n"
     ]
    },
    {
     "name": "stderr",
     "output_type": "stream",
     "text": [
      " 88%|████████▊ | 350/400 [58:28<11:28, 13.77s/it]"
     ]
    },
    {
     "name": "stdout",
     "output_type": "stream",
     "text": [
      "\r",
      "Episode 350\tAverage Score: 31.35\n"
     ]
    },
    {
     "name": "stderr",
     "output_type": "stream",
     "text": [
      "100%|██████████| 400/400 [1:10:31<00:00, 10.58s/it]"
     ]
    },
    {
     "name": "stdout",
     "output_type": "stream",
     "text": [
      "\r",
      "Episode 400\tAverage Score: 31.50\n"
     ]
    },
    {
     "name": "stderr",
     "output_type": "stream",
     "text": [
      "\n"
     ]
    }
   ],
   "source": [
    "scores = ddpg(\n",
    "    agent,\n",
    "    prefix = 'one_agent',\n",
    "    n_episodes = 400,\n",
    "    max_t = 10000,\n",
    "    gamma_initial = 0.95,\n",
    "    gamma_final = 0.99,\n",
    "    gamma_rate = 0.01,\n",
    "    tau_initial = 0.01,\n",
    "    tau_final = 0.001,\n",
    "    tau_rate = 0.1,\n",
    "    noise_factor = 0.995)"
   ]
  },
  {
   "cell_type": "markdown",
   "metadata": {},
   "source": [
    "### A plot of rewards per episode\n",
    "The agent receives an average reward (over 100 episodes) of at least +30"
   ]
  },
  {
   "cell_type": "code",
   "execution_count": 16,
   "metadata": {},
   "outputs": [
    {
     "data": {
      "image/png": "[encoded data removed]",
      "text/plain": [
       "<matplotlib.figure.Figure at 0x7fb3dce68860>"
      ]
     },
     "metadata": {
      "needs_background": "light"
     },
     "output_type": "display_data"
    }
   ],
   "source": [
    "%matplotlib inline\n",
    "import matplotlib.pyplot as plt\n",
    "\n",
    "fig = plt.figure()\n",
    "ax = fig.add_subplot(111)\n",
    "plt.plot(np.arange(1, len(scores)+1), scores)\n",
    "plt.ylabel('Score')\n",
    "plt.xlabel('Episode #')\n",
    "plt.show()"
   ]
  },
  {
   "cell_type": "markdown",
   "metadata": {},
   "source": [
    "## Test the Agent"
   ]
  },
  {
   "cell_type": "markdown",
   "metadata": {},
   "source": [
    "Load model weights for the actor and critic networks for the pre-trained agent.<br>\n",
    "Run the agent for 100 episodes and average the scores"
   ]
  },
  {
   "cell_type": "code",
   "execution_count": 18,
   "metadata": {},
   "outputs": [
    {
     "name": "stdout",
     "output_type": "stream",
     "text": [
      "Episode 1\tAverage Score: 37.84\n",
      "Episode 2\tAverage Score: 37.56\n",
      "Episode 3\tAverage Score: 39.15\n",
      "Episode 4\tAverage Score: 35.63\n",
      "Episode 5\tAverage Score: 34.56\n",
      "Episode 6\tAverage Score: 39.28\n",
      "Episode 7\tAverage Score: 39.26\n",
      "Episode 8\tAverage Score: 36.60\n",
      "Episode 9\tAverage Score: 39.09\n",
      "Episode 10\tAverage Score: 36.73\n",
      "Episode 11\tAverage Score: 37.27\n",
      "Episode 12\tAverage Score: 37.41\n",
      "Episode 13\tAverage Score: 37.39\n",
      "Episode 14\tAverage Score: 38.83\n",
      "Episode 15\tAverage Score: 38.01\n",
      "Episode 16\tAverage Score: 37.13\n",
      "Episode 17\tAverage Score: 39.42\n",
      "Episode 18\tAverage Score: 38.85\n",
      "Episode 19\tAverage Score: 38.28\n",
      "Episode 20\tAverage Score: 39.49\n",
      "Episode 21\tAverage Score: 36.51\n",
      "Episode 22\tAverage Score: 39.54\n",
      "Episode 23\tAverage Score: 36.92\n",
      "Episode 24\tAverage Score: 38.39\n",
      "Episode 25\tAverage Score: 37.98\n",
      "Episode 26\tAverage Score: 38.66\n",
      "Episode 27\tAverage Score: 37.75\n",
      "Episode 28\tAverage Score: 37.27\n",
      "Episode 29\tAverage Score: 38.16\n",
      "Episode 30\tAverage Score: 37.38\n",
      "Episode 31\tAverage Score: 35.98\n",
      "Episode 32\tAverage Score: 37.56\n",
      "Episode 33\tAverage Score: 38.33\n",
      "Episode 34\tAverage Score: 38.09\n",
      "Episode 35\tAverage Score: 37.66\n",
      "Episode 36\tAverage Score: 38.57\n",
      "Episode 37\tAverage Score: 38.19\n",
      "Episode 38\tAverage Score: 39.62\n",
      "Episode 39\tAverage Score: 37.67\n",
      "Episode 40\tAverage Score: 37.67\n",
      "Episode 41\tAverage Score: 37.47\n",
      "Episode 42\tAverage Score: 39.17\n",
      "Episode 43\tAverage Score: 39.06\n",
      "Episode 44\tAverage Score: 37.94\n",
      "Episode 45\tAverage Score: 36.59\n",
      "Episode 46\tAverage Score: 38.66\n",
      "Episode 47\tAverage Score: 37.03\n",
      "Episode 48\tAverage Score: 39.66\n",
      "Episode 49\tAverage Score: 39.21\n",
      "Episode 50\tAverage Score: 38.10\n",
      "Episode 51\tAverage Score: 38.68\n",
      "Episode 52\tAverage Score: 39.38\n",
      "Episode 53\tAverage Score: 37.28\n",
      "Episode 54\tAverage Score: 38.66\n",
      "Episode 55\tAverage Score: 38.66\n",
      "Episode 56\tAverage Score: 36.28\n",
      "Episode 57\tAverage Score: 38.19\n",
      "Episode 58\tAverage Score: 38.32\n",
      "Episode 59\tAverage Score: 37.34\n",
      "Episode 60\tAverage Score: 39.53\n",
      "Episode 61\tAverage Score: 38.54\n",
      "Episode 62\tAverage Score: 38.67\n",
      "Episode 63\tAverage Score: 38.09\n",
      "Episode 64\tAverage Score: 36.22\n",
      "Episode 65\tAverage Score: 38.68\n",
      "Episode 66\tAverage Score: 39.57\n",
      "Episode 67\tAverage Score: 39.67\n",
      "Episode 68\tAverage Score: 37.23\n",
      "Episode 69\tAverage Score: 38.50\n",
      "Episode 70\tAverage Score: 38.12\n",
      "Episode 71\tAverage Score: 38.13\n",
      "Episode 72\tAverage Score: 36.28\n",
      "Episode 73\tAverage Score: 38.29\n",
      "Episode 74\tAverage Score: 34.87\n",
      "Episode 75\tAverage Score: 39.45\n",
      "Episode 76\tAverage Score: 38.09\n",
      "Episode 77\tAverage Score: 37.47\n",
      "Episode 78\tAverage Score: 36.92\n",
      "Episode 79\tAverage Score: 37.88\n",
      "Episode 80\tAverage Score: 38.28\n",
      "Episode 81\tAverage Score: 36.74\n",
      "Episode 82\tAverage Score: 38.80\n",
      "Episode 83\tAverage Score: 39.42\n",
      "Episode 84\tAverage Score: 38.90\n",
      "Episode 85\tAverage Score: 38.45\n",
      "Episode 86\tAverage Score: 38.08\n",
      "Episode 87\tAverage Score: 36.24\n",
      "Episode 88\tAverage Score: 37.77\n",
      "Episode 89\tAverage Score: 39.21\n",
      "Episode 90\tAverage Score: 38.22\n",
      "Episode 91\tAverage Score: 38.83\n",
      "Episode 92\tAverage Score: 38.32\n",
      "Episode 93\tAverage Score: 38.20\n",
      "Episode 94\tAverage Score: 37.76\n",
      "Episode 95\tAverage Score: 38.15\n",
      "Episode 96\tAverage Score: 39.55\n",
      "Episode 97\tAverage Score: 39.11\n",
      "Episode 98\tAverage Score: 37.57\n",
      "Episode 99\tAverage Score: 38.54\n",
      "Episode 100\tAverage Score: 37.53\n",
      "Average score over 100 episodes: 38.05\n"
     ]
    }
   ],
   "source": [
    "# env_info = env.reset(train_mode=False)[brain_name] # reset the environment\n",
    "agent = Agent(\n",
    "    state_size = state_size,\n",
    "    action_size = action_size,\n",
    "    num_agents = num_agents,\n",
    ")\n",
    "n_episodes = 100\n",
    "prefix_name = \"one_agent\"\n",
    "\n",
    "# load the weights from file\n",
    "agent.actor_local.load_state_dict(torch.load(prefix_name + \"_actor.pth\"))\n",
    "agent.critic_local.load_state_dict(torch.load(prefix_name + \"_critic.pth\"))\n",
    "\n",
    "# Get the default brain\n",
    "brain_name = env.brain_names[0]\n",
    "brain = env.brains[brain_name]\n",
    "\n",
    "total_score = 0.0\n",
    "for i in range(n_episodes):\n",
    "    # Reset the environment\n",
    "    env_info = env.reset(train_mode=False)[brain_name] \n",
    "    # Get the current state\n",
    "    state = env_info.vector_observations\n",
    "    # Initialize the scores\n",
    "    score = np.zeros(agent.num_agents)\n",
    "        \n",
    "    while True:  \n",
    "        # Choose actions\n",
    "        action = agent.act(state)\n",
    "        # Send actions to the environment\n",
    "        env_info = env.step(action)[brain_name]\n",
    "        # Get the next state\n",
    "        next_state = env_info.vector_observations\n",
    "        # Get rewards\n",
    "        reward = env_info.rewards\n",
    "        # Check if the episode is finishised\n",
    "        done = env_info.local_done\n",
    "        # Add rewards to the scores\n",
    "        score += reward\n",
    "        # Replace the current state with the next state for the next timestep\n",
    "        state = next_state\n",
    "            \n",
    "        # Exit the loop if the episode is finished\n",
    "        if np.any(done):\n",
    "            break\n",
    "\n",
    "    print(\"\\rEpisode {}\\tAverage Score: {:.2f}\".format(i + 1, np.mean(score)))\n",
    "    total_score += np.mean(score)\n",
    "\n",
    "print(\"Average score over {} episodes: {:.2f}\"\\\n",
    "      .format(n_episodes, total_score / n_episodes))"
   ]
  },
  {
   "cell_type": "markdown",
   "metadata": {},
   "source": [
    "When finished, you can close the environment."
   ]
  },
  {
   "cell_type": "code",
   "execution_count": 19,
   "metadata": {},
   "outputs": [],
   "source": [
    "env.close()"
   ]
  },
  {
   "cell_type": "markdown",
   "metadata": {},
   "source": [
    "## Ideas for Future Work\n",
    "1. Optimization of the existing code\n",
    "2. Search for optimal hyperparameters (it is necessary to pay special attention to the values of theta and sigma, which have a significant impact on the learning process)\n",
    "3. Implementation of the other algorithms such as PPO, A3C and D4PG"
   ]
  }
 ],
 "metadata": {
  "kernelspec": {
   "display_name": "Python 3",
   "language": "python",
   "name": "python3"
  },
  "language_info": {
   "codemirror_mode": {
    "name": "ipython",
    "version": 3
   },
   "file_extension": ".py",
   "mimetype": "text/x-python",
   "name": "python",
   "nbconvert_exporter": "python",
   "pygments_lexer": "ipython3",
   "version": "3.6.3"
  }
 },
 "nbformat": 4,
 "nbformat_minor": 2
}
